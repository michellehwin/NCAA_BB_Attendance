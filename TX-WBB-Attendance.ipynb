{
 "cells": [
  {
   "cell_type": "code",
   "execution_count": 89,
   "metadata": {},
   "outputs": [],
   "source": [
    "import requests as rq\n",
    "from bs4 import BeautifulSoup as bs\n",
    "import pandas as pd\n",
    "import altair as alt"
   ]
  },
  {
   "cell_type": "code",
   "execution_count": 90,
   "metadata": {},
   "outputs": [],
   "source": [
    "team_id = 251\n",
    "team_color = \"#bf5700\"\n",
    "season = 2023\n",
    "url = f\"http://www.espn.com/womens-college-basketball/team/schedule/_/id/{team_id}/season/{season}\"\n"
   ]
  },
  {
   "attachments": {},
   "cell_type": "markdown",
   "metadata": {},
   "source": [
    "# Pandas Method"
   ]
  },
  {
   "cell_type": "code",
   "execution_count": 91,
   "metadata": {},
   "outputs": [],
   "source": [
    "# table = pd.read_html(url)[0]\n",
    "# table.head()"
   ]
  },
  {
   "attachments": {},
   "cell_type": "markdown",
   "metadata": {},
   "source": [
    "# BS Method"
   ]
  },
  {
   "cell_type": "code",
   "execution_count": 92,
   "metadata": {},
   "outputs": [],
   "source": [
    "page = rq.get(url)"
   ]
  },
  {
   "cell_type": "code",
   "execution_count": 93,
   "metadata": {},
   "outputs": [],
   "source": [
    "soup = bs(page.content)"
   ]
  },
  {
   "cell_type": "code",
   "execution_count": 94,
   "metadata": {},
   "outputs": [],
   "source": [
    "table = soup.table\n",
    "data = {'Opponent': [],\n",
    "        'Attendance': [],\n",
    "        'Location': []} \n",
    "for row in table.find_all('tr')[2:]:\n",
    "    row_cells = row.find_all('td')\n",
    "    try:\n",
    "        opponent = row_cells[1].find_all('a')[1].contents[0]\n",
    "        game_link = row_cells[2].find('a')['href']\n",
    "        if(row_cells[1].find_all('span')[2].contents[-1] == \"*\"):\n",
    "            location = \"Neutral\"\n",
    "        else:\n",
    "            location = \"Home\" if row_cells[1].find_all('span')[0].contents[0] == \"vs\" else \"Away\"\n",
    "    except:\n",
    "        break\n",
    "    # print(game_link)\n",
    "    game_page = rq.get(game_link)\n",
    "    game_soup = bs(game_page.content)\n",
    "    atndnce = game_soup.find('div', {\"class\":\"Attendance__Numbers\"})\n",
    "    atndnce = atndnce.contents[4] if atndnce != None else 0\n",
    "    atndnce = ''.join(filter(str.isdigit, atndnce)) if atndnce != 0 else atndnce\n",
    "    # add current row data to dictionary\n",
    "    if atndnce != 0:\n",
    "        data[\"Opponent\"].append(opponent)\n",
    "        data[\"Attendance\"].append(float(atndnce))\n",
    "        data[\"Location\"].append(location)\n",
    "\n",
    "df= pd.DataFrame(data)"
   ]
  },
  {
   "cell_type": "code",
   "execution_count": 95,
   "metadata": {},
   "outputs": [
    {
     "data": {
      "text/html": [
       "<div>\n",
       "<style scoped>\n",
       "    .dataframe tbody tr th:only-of-type {\n",
       "        vertical-align: middle;\n",
       "    }\n",
       "\n",
       "    .dataframe tbody tr th {\n",
       "        vertical-align: top;\n",
       "    }\n",
       "\n",
       "    .dataframe thead th {\n",
       "        text-align: right;\n",
       "    }\n",
       "</style>\n",
       "<table border=\"1\" class=\"dataframe\">\n",
       "  <thead>\n",
       "    <tr style=\"text-align: right;\">\n",
       "      <th></th>\n",
       "      <th>Opponent</th>\n",
       "      <th>Attendance</th>\n",
       "      <th>Location</th>\n",
       "    </tr>\n",
       "  </thead>\n",
       "  <tbody>\n",
       "    <tr>\n",
       "      <th>0</th>\n",
       "      <td>Louisiana</td>\n",
       "      <td>5658.0</td>\n",
       "      <td>Home</td>\n",
       "    </tr>\n",
       "    <tr>\n",
       "      <th>1</th>\n",
       "      <td>UConn</td>\n",
       "      <td>10167.0</td>\n",
       "      <td>Away</td>\n",
       "    </tr>\n",
       "    <tr>\n",
       "      <th>2</th>\n",
       "      <td>Marquette</td>\n",
       "      <td>376.0</td>\n",
       "      <td>Neutral</td>\n",
       "    </tr>\n",
       "    <tr>\n",
       "      <th>3</th>\n",
       "      <td>Louisville</td>\n",
       "      <td>365.0</td>\n",
       "      <td>Neutral</td>\n",
       "    </tr>\n",
       "    <tr>\n",
       "      <th>4</th>\n",
       "      <td>Rutgers</td>\n",
       "      <td>155.0</td>\n",
       "      <td>Neutral</td>\n",
       "    </tr>\n",
       "    <tr>\n",
       "      <th>5</th>\n",
       "      <td>Princeton</td>\n",
       "      <td>5137.0</td>\n",
       "      <td>Home</td>\n",
       "    </tr>\n",
       "    <tr>\n",
       "      <th>6</th>\n",
       "      <td>South Florida</td>\n",
       "      <td>5021.0</td>\n",
       "      <td>Home</td>\n",
       "    </tr>\n",
       "    <tr>\n",
       "      <th>7</th>\n",
       "      <td>Southern</td>\n",
       "      <td>4987.0</td>\n",
       "      <td>Home</td>\n",
       "    </tr>\n",
       "    <tr>\n",
       "      <th>8</th>\n",
       "      <td>Alabama State</td>\n",
       "      <td>5116.0</td>\n",
       "      <td>Home</td>\n",
       "    </tr>\n",
       "    <tr>\n",
       "      <th>9</th>\n",
       "      <td>Jackson State</td>\n",
       "      <td>1200.0</td>\n",
       "      <td>Neutral</td>\n",
       "    </tr>\n",
       "    <tr>\n",
       "      <th>10</th>\n",
       "      <td>USC</td>\n",
       "      <td>4700.0</td>\n",
       "      <td>Neutral</td>\n",
       "    </tr>\n",
       "    <tr>\n",
       "      <th>11</th>\n",
       "      <td>Houston Christian</td>\n",
       "      <td>5021.0</td>\n",
       "      <td>Home</td>\n",
       "    </tr>\n",
       "    <tr>\n",
       "      <th>12</th>\n",
       "      <td>Texas A&amp;M-Commerce</td>\n",
       "      <td>4589.0</td>\n",
       "      <td>Home</td>\n",
       "    </tr>\n",
       "    <tr>\n",
       "      <th>13</th>\n",
       "      <td>Kansas State</td>\n",
       "      <td>5126.0</td>\n",
       "      <td>Home</td>\n",
       "    </tr>\n",
       "  </tbody>\n",
       "</table>\n",
       "</div>"
      ],
      "text/plain": [
       "              Opponent  Attendance Location\n",
       "0            Louisiana      5658.0     Home\n",
       "1                UConn     10167.0     Away\n",
       "2            Marquette       376.0  Neutral\n",
       "3           Louisville       365.0  Neutral\n",
       "4              Rutgers       155.0  Neutral\n",
       "5            Princeton      5137.0     Home\n",
       "6        South Florida      5021.0     Home\n",
       "7             Southern      4987.0     Home\n",
       "8        Alabama State      5116.0     Home\n",
       "9        Jackson State      1200.0  Neutral\n",
       "10                 USC      4700.0  Neutral\n",
       "11   Houston Christian      5021.0     Home\n",
       "12  Texas A&M-Commerce      4589.0     Home\n",
       "13        Kansas State      5126.0     Home"
      ]
     },
     "execution_count": 95,
     "metadata": {},
     "output_type": "execute_result"
    }
   ],
   "source": [
    "df"
   ]
  },
  {
   "attachments": {},
   "cell_type": "markdown",
   "metadata": {},
   "source": [
    "Altair"
   ]
  },
  {
   "cell_type": "code",
   "execution_count": 102,
   "metadata": {},
   "outputs": [
    {
     "data": {
      "text/html": [
       "\n",
       "<div id=\"altair-viz-8eb87d21762d4d0093ccd74d473d9581\"></div>\n",
       "<script type=\"text/javascript\">\n",
       "  var VEGA_DEBUG = (typeof VEGA_DEBUG == \"undefined\") ? {} : VEGA_DEBUG;\n",
       "  (function(spec, embedOpt){\n",
       "    let outputDiv = document.currentScript.previousElementSibling;\n",
       "    if (outputDiv.id !== \"altair-viz-8eb87d21762d4d0093ccd74d473d9581\") {\n",
       "      outputDiv = document.getElementById(\"altair-viz-8eb87d21762d4d0093ccd74d473d9581\");\n",
       "    }\n",
       "    const paths = {\n",
       "      \"vega\": \"https://cdn.jsdelivr.net/npm//vega@5?noext\",\n",
       "      \"vega-lib\": \"https://cdn.jsdelivr.net/npm//vega-lib?noext\",\n",
       "      \"vega-lite\": \"https://cdn.jsdelivr.net/npm//vega-lite@4.17.0?noext\",\n",
       "      \"vega-embed\": \"https://cdn.jsdelivr.net/npm//vega-embed@6?noext\",\n",
       "    };\n",
       "\n",
       "    function maybeLoadScript(lib, version) {\n",
       "      var key = `${lib.replace(\"-\", \"\")}_version`;\n",
       "      return (VEGA_DEBUG[key] == version) ?\n",
       "        Promise.resolve(paths[lib]) :\n",
       "        new Promise(function(resolve, reject) {\n",
       "          var s = document.createElement('script');\n",
       "          document.getElementsByTagName(\"head\")[0].appendChild(s);\n",
       "          s.async = true;\n",
       "          s.onload = () => {\n",
       "            VEGA_DEBUG[key] = version;\n",
       "            return resolve(paths[lib]);\n",
       "          };\n",
       "          s.onerror = () => reject(`Error loading script: ${paths[lib]}`);\n",
       "          s.src = paths[lib];\n",
       "        });\n",
       "    }\n",
       "\n",
       "    function showError(err) {\n",
       "      outputDiv.innerHTML = `<div class=\"error\" style=\"color:red;\">${err}</div>`;\n",
       "      throw err;\n",
       "    }\n",
       "\n",
       "    function displayChart(vegaEmbed) {\n",
       "      vegaEmbed(outputDiv, spec, embedOpt)\n",
       "        .catch(err => showError(`Javascript Error: ${err.message}<br>This usually means there's a typo in your chart specification. See the javascript console for the full traceback.`));\n",
       "    }\n",
       "\n",
       "    if(typeof define === \"function\" && define.amd) {\n",
       "      requirejs.config({paths});\n",
       "      require([\"vega-embed\"], displayChart, err => showError(`Error loading script: ${err.message}`));\n",
       "    } else {\n",
       "      maybeLoadScript(\"vega\", \"5\")\n",
       "        .then(() => maybeLoadScript(\"vega-lite\", \"4.17.0\"))\n",
       "        .then(() => maybeLoadScript(\"vega-embed\", \"6\"))\n",
       "        .catch(showError)\n",
       "        .then(() => displayChart(vegaEmbed));\n",
       "    }\n",
       "  })({\"config\": {\"view\": {\"continuousWidth\": 400, \"continuousHeight\": 300}}, \"data\": {\"name\": \"data-e0d36fc561588811112b7f6b9f5c4496\"}, \"mark\": \"bar\", \"encoding\": {\"color\": {\"field\": \"Location\", \"scale\": {\"domain\": [\"Home\", \"Away\", \"Neutral\"], \"range\": [\"#bf5700\", \"darkgray\", \"lightgray\"]}, \"type\": \"nominal\"}, \"x\": {\"field\": \"Opponent\", \"sort\": [\"Louisiana\", \"UConn\", \"Marquette\", \"Louisville\", \"Rutgers\", \"Princeton\", \"South Florida\", \"Southern\", \"Alabama State\", \"Jackson State\", \"USC\", \"Houston Christian\", \"Texas A&M-Commerce\", \"Kansas State\"], \"type\": \"nominal\"}, \"y\": {\"field\": \"Attendance\", \"type\": \"quantitative\"}}, \"$schema\": \"https://vega.github.io/schema/vega-lite/v4.17.0.json\", \"datasets\": {\"data-e0d36fc561588811112b7f6b9f5c4496\": [{\"Opponent\": \"Louisiana\", \"Attendance\": 5658.0, \"Location\": \"Home\"}, {\"Opponent\": \"UConn\", \"Attendance\": 10167.0, \"Location\": \"Away\"}, {\"Opponent\": \"Marquette\", \"Attendance\": 376.0, \"Location\": \"Neutral\"}, {\"Opponent\": \"Louisville\", \"Attendance\": 365.0, \"Location\": \"Neutral\"}, {\"Opponent\": \"Rutgers\", \"Attendance\": 155.0, \"Location\": \"Neutral\"}, {\"Opponent\": \"Princeton\", \"Attendance\": 5137.0, \"Location\": \"Home\"}, {\"Opponent\": \"South Florida\", \"Attendance\": 5021.0, \"Location\": \"Home\"}, {\"Opponent\": \"Southern\", \"Attendance\": 4987.0, \"Location\": \"Home\"}, {\"Opponent\": \"Alabama State\", \"Attendance\": 5116.0, \"Location\": \"Home\"}, {\"Opponent\": \"Jackson State\", \"Attendance\": 1200.0, \"Location\": \"Neutral\"}, {\"Opponent\": \"USC\", \"Attendance\": 4700.0, \"Location\": \"Neutral\"}, {\"Opponent\": \"Houston Christian\", \"Attendance\": 5021.0, \"Location\": \"Home\"}, {\"Opponent\": \"Texas A&M-Commerce\", \"Attendance\": 4589.0, \"Location\": \"Home\"}, {\"Opponent\": \"Kansas State\", \"Attendance\": 5126.0, \"Location\": \"Home\"}]}}, {\"mode\": \"vega-lite\"});\n",
       "</script>"
      ],
      "text/plain": [
       "alt.Chart(...)"
      ]
     },
     "execution_count": 102,
     "metadata": {},
     "output_type": "execute_result"
    }
   ],
   "source": [
    "alt.Chart(df).mark_bar().encode(\n",
    "    x=alt.X('Opponent',sort = data[\"Opponent\"]),\n",
    "    y='Attendance',\n",
    "    color=alt.Color('Location',\n",
    "                    scale=alt.Scale(\n",
    "                        domain=['Home', 'Away' ,'Neutral'],\n",
    "                        range=[team_color, 'darkgray', 'lightgray']))\n",
    ")\n"
   ]
  }
 ],
 "metadata": {
  "kernelspec": {
   "display_name": "Python 3",
   "language": "python",
   "name": "python3"
  },
  "language_info": {
   "codemirror_mode": {
    "name": "ipython",
    "version": 3
   },
   "file_extension": ".py",
   "mimetype": "text/x-python",
   "name": "python",
   "nbconvert_exporter": "python",
   "pygments_lexer": "ipython3",
   "version": "3.10.9 (main, Dec 15 2022, 10:44:50) [Clang 14.0.0 (clang-1400.0.29.202)]"
  },
  "orig_nbformat": 4,
  "vscode": {
   "interpreter": {
    "hash": "b0fa6594d8f4cbf19f97940f81e996739fb7646882a419484c72d19e05852a7e"
   }
  }
 },
 "nbformat": 4,
 "nbformat_minor": 2
}
